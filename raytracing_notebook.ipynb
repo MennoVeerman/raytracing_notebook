{
 "cells": [
  {
   "cell_type": "markdown",
   "metadata": {},
   "source": [
    "# 2D monte carlo ray-tracing\n",
    "This notebook contains a simple monte carlo ray-tracing solver for radiative transfer in a 2D atmosphere, including a small bit of theoretical background (see e.g. *Mayer, 2009: Radiative transfer in the cloudy atmosphere* for a more extensive overview)\n",
    "\n",
    "First, we load the required python modules and read all atmospheric propertiesfrom the netcdf input file"
   ]
  },
  {
   "cell_type": "code",
   "execution_count": 33,
   "metadata": {},
   "outputs": [],
   "source": [
    "import numpy as np\n",
    "import netCDF4 as nc\n",
    "import random as rd\n",
    "\n",
    "nc_file = nc.Dataset(\"raytracing_input.nc\")\n",
    "k_ext   = nc_file.variables['k_ext'][:] # total extinction coefficient\n",
    "k_sca     = nc_file.variables['k_sca'][:] # scattering coefficient\n",
    "ccf     = nc_file.variables['ccf'][:]   # ratio of the cloud extinction coefficients over the total (cloud + clear sky extinction coefficient)\n",
    "\n",
    "sza     = nc_file.variables['sza'][:]   # solar zenith angle\n",
    "g       = nc_file.variables['g'][:]     # asymmetry parameters\n"
   ]
  },
  {
   "cell_type": "markdown",
   "metadata": {},
   "source": [
    "## Scattering functions\n",
    "When a photon hits a molecule and is scattered, we need to sample a random scattering angle from a probability distribution. We define two different scattering functions, depending on whether the photon is scattered by a cloud droplet or a gas molecule.\n",
    "\n",
    "#### Henyey-Greenstein function\n",
    "The Henyey-Greenstein phase function is an approximation of the very complex and expensive to calculate Mie scattering and often used for scattering by clouds. It is a probability density function for $\\mu$, the cosine of scattering angle $\\theta$ ($\\mu=\\cos\\theta$)\n",
    "\n",
    "$$P_{HG}\\left(\\mu\\right)=\\frac{1-g^2}{2\\left(1+g^2-2g\\mu\\right)^{3/2}},$$\n",
    "\n",
    "where $g$ is the asymmetry parameter. To be able to sample a random $\\mu$, integrate $P_{HG}\\left(\\mu\\right)$ from $-1$ to $\\mu$ and solve for $\\mu$:\n",
    "\n",
    "$$\\mu_{HG}=\\dfrac{1}{2g}\\left(1+g^2-\\left(\\dfrac{g^2-1}{2gr-g-1}\\right)^2\\right),$$\n",
    "\n",
    "where $r$ is a random number between 0 and 1"
   ]
  },
  {
   "cell_type": "code",
   "execution_count": 34,
   "metadata": {},
   "outputs": [],
   "source": [
    "def henyey(g=.85): #henyey greenstein scattering   \n",
    "    r = rd.random()\n",
    "    a = (1.-g**2)**2\n",
    "    b = 2.*g*(2*r*g+1.-g)**2\n",
    "    c = -g/2.-1./(2*g)\n",
    "    return -1*(a/b)-c"
   ]
  },
  {
   "cell_type": "markdown",
   "metadata": {},
   "source": [
    "#### Rayleigh function\n",
    "For scattering by molecules, we use the Rayleigh phase function\n",
    "\n",
    "$$P_{rayleigh} = \\dfrac{3}{4}\\left(1+\\cos^2\\theta\\right),$$\n",
    "\n",
    "and, after integrating from $-1$ to $\\mu$ and solving for $\\theta$,\n",
    "\n",
    "$$\\mu_{Rayleigh} = u-\\frac{1}{u},\\ u=\\left(-q+\\sqrt{1+q^2}\\right)^{1/3}\\ \\mathrm{and}\\ q=4r-2,$$\n",
    "\n",
    "where r is a random number between 0 and 1."
   ]
  },
  {
   "cell_type": "code",
   "execution_count": 35,
   "metadata": {},
   "outputs": [],
   "source": [
    "def rayleigh(): \n",
    "    r = rd.random()\n",
    "    q = -8*r+4\n",
    "    d = 1+q*q/4\n",
    "    u = (-q/2+np.sqrt(d))**(1/3.)\n",
    "    return u-1/u"
   ]
  },
  {
   "cell_type": "markdown",
   "metadata": {},
   "source": [
    "### Sampling optical depth\n",
    "\n",
    "The decrease in radiative flux along a path in a non-transparent atmosphere is determined by the Lambert-Beer law, so the radiative flux after a distance $s$ from the top of the atmosphere is\n",
    "\n",
    "$$I(s)=-I_0\\exp{\\tau}, \\tag{1}$$ \n",
    "\n",
    "where $I_0$ is the radiative flux at the top of atmosphere and $\\tau$ is the optical depth, which is the integral of the extinction coefficient ($k_{ext}$) over distance $s$: $\\tau=\\int k_{ext} ds$. (Note: the extinction coefficient is not a constant, but a function of wavelength, temperature, pressure, humidity, cloud thickness and more). \n",
    "\n",
    "As given by eq. 1, the fraction of photon surviving after a distance $\\tau$ is $\\frac{1}{e^\\tau}$, which also means that a random photon has a $\\frac{1}{e^\\tau}$ chance of travelling further than a distance $\\tau$ before hitting a molecule or cloud droplet. For each initialised photon, we sample a random $\\tau$ from a probability distribution, such that after many photons the fraction of photons that will travel further than $\\tau$ is $\\frac{1}{e^\\tau}$:\n",
    "\n",
    "$$\\tau = -\\ln{\\left(1-r\\right)},$$ \n",
    "\n",
    "where $r$ is a random number between 0 and 1"
   ]
  },
  {
   "cell_type": "code",
   "execution_count": 10,
   "metadata": {},
   "outputs": [],
   "source": [
    "def sample_tau():\n",
    "    return -np.log(1-rd.random())"
   ]
  },
  {
   "cell_type": "code",
   "execution_count": null,
   "metadata": {},
   "outputs": [],
   "source": []
  },
  {
   "cell_type": "code",
   "execution_count": null,
   "metadata": {},
   "outputs": [],
   "source": []
  }
 ],
 "metadata": {
  "kernelspec": {
   "display_name": "Python 3",
   "language": "python",
   "name": "python3"
  },
  "language_info": {
   "codemirror_mode": {
    "name": "ipython",
    "version": 3
   },
   "file_extension": ".py",
   "mimetype": "text/x-python",
   "name": "python",
   "nbconvert_exporter": "python",
   "pygments_lexer": "ipython3",
   "version": "3.7.9"
  }
 },
 "nbformat": 4,
 "nbformat_minor": 4
}
