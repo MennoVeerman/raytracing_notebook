{
 "cells": [
  {
   "cell_type": "markdown",
   "metadata": {},
   "source": [
    "# 2D Monte Carlo ray-tracing\n",
    "This notebook contains a simple Monte Carlo ray-tracing solver for radiative transfer in a 2D atmosphere, including a small bit of theoretical background (see e.g. *Mayer, 2009: Radiative transfer in the cloudy atmosphere* for a more extensive overview)\n",
    "\n",
    "First, we load the required python modules, define four constants and read all atmospheric properties from the netcdf input file"
   ]
  },
  {
   "cell_type": "code",
   "execution_count": 139,
   "metadata": {},
   "outputs": [],
   "source": [
    "import numpy as np\n",
    "import netCDF4 as nc\n",
    "import random as rd\n",
    "import matplotlib.pyplot as pl\n",
    "import copy\n",
    "import matplotlib as mpl\n",
    "import numba \n",
    "import datetime as dt\n",
    "from math import log\n",
    "cnt = []#@numba.jit(nopython=True)\n",
    "\n",
    "ZC=666 # Zero-collision\n",
    "SC=667 # Scattering\n",
    "AB=668 # Absorption\n",
    "BD=669 # Boundary hit\n",
    "ds = 1e-5 # minimum distance (to shift away from cell boundaries and prevent numerical issues)\n",
    "\n",
    "nc_file   = nc.Dataset(\"raytracing_input.nc\")\n",
    "\n",
    "z_size     = nc_file.dimensions[\"z\"].size # vertical domain size\n",
    "x_size     = nc_file.dimensions[\"x\"].size # horizontal domain size\n",
    "size = np.array([z_size, x_size])\n",
    "\n",
    "k_ext_cld = nc_file.variables['k_ext_cld'][:] # extinction coefficient of cloud droplets\n",
    "k_ext_gas = nc_file.variables['k_ext_gas'][:] # extinction coefficient of cloud droplets\n",
    "k_sca_cld = nc_file.variables['k_sca_cld'][:] # scattering coefficients of cloud droplets\n",
    "k_sca_gas = nc_file.variables['k_sca_gas'][:] # scattering coefficients of gas molecules\n",
    "\n",
    "sza     = nc_file.variables['sza'][:]    # solar zenith angle\n",
    "g       = nc_file.variables['g'][:]      # asymmetry parameter (assume constant)\n",
    "albedo  = nc_file.variables['albedo'][:] # surface albedo\n",
    "\n",
    "# total extinction coefficient\n",
    "k_ext = k_ext_cld + k_ext_gas\n",
    "\n",
    "# total scattering coefficient\n",
    "k_sca = k_sca_cld + k_sca_gas\n",
    "\n",
    "# k_hat = k_ext+k_null, where k_null is defined such that k_hat is constant in space\n",
    "# therefore, k_hat is set to the maximum value of k_ext in the domain\n",
    "k_hat = k_ext.max()\n",
    "\n",
    "# ratio cloud scattering coefficient over total scattering coefficient\n",
    "cloud_scat_frac = k_sca_cld / k_sca\n",
    "\n",
    "# compute cloud mask, if ccf == 0, no cloud is present\n",
    "cloud_mask = (k_sca_cld != 0)\n",
    "\n",
    "# randomly return either 1 or -1\n",
    "@numba.jit(nopython=True)\n",
    "def rand_sign():\n",
    "    return (-1+2*(rd.random()>.5))"
   ]
  },
  {
   "cell_type": "markdown",
   "metadata": {},
   "source": [
    "## Scattering functions\n",
    "When a photon hits a molecule or cloud droplet, it is either scattered or absorped. If the photon is scattered, we need to sample a random scattering angle from a probability distribution. We define two different scattering functions, depending on whether the photon is scattered by a cloud droplet or a gas molecule.\n",
    "\n",
    "#### Henyey-Greenstein function\n",
    "The Henyey-Greenstein phase function is an approximation of the very complex and expensive to calculate Mie scattering and often used for scattering by clouds. It is a probability density function for $\\mu$, the cosine of scattering angle $\\theta$ ($\\mu=\\cos\\theta$)\n",
    "\n",
    "$$P_\\mathrm{HG}\\left(\\mu\\right)=\\frac{1-g^2}{2\\left(1+g^2-2g\\mu\\right)^{3/2}},$$\n",
    "\n",
    "where $g$ is the asymmetry parameter, which is defined as the intensity-weighted average of $\\mu$. Scattering is purely forward if $g=1$, purely backward if $g=-1$ and isotropic if $g=0$, but typically $g$ is around $0.85$. To be able to sample a random $\\mu$, integrate $P_\\mathrm{HG}\\left(\\mu\\right)$ from $-1$ to $\\mu$ and solve for $\\mu$:\n",
    "\n",
    "$$\\mu_\\mathrm{HG}=\\dfrac{1}{2g}\\left(1+g^2-\\left(\\dfrac{g^2-1}{2gr-g-1}\\right)^2\\right),$$\n",
    "\n",
    "where $r$ is a random number between 0 and 1"
   ]
  },
  {
   "cell_type": "code",
   "execution_count": 117,
   "metadata": {},
   "outputs": [],
   "source": [
    "@numba.jit(nopython=True)\n",
    "def henyey(g=.85): #henyey greenstein scattering   \n",
    "    r = rd.random()\n",
    "    a = (1.-g**2)**2\n",
    "    b = 2.*g*(2*r*g+1.-g)**2\n",
    "    c = -g/2.-1./(2*g)\n",
    "    return -1*(a/b)-c"
   ]
  },
  {
   "cell_type": "markdown",
   "metadata": {},
   "source": [
    "#### Rayleigh function\n",
    "For scattering by molecules, we use the Rayleigh phase function\n",
    "\n",
    "$$P_\\mathrm{Rayleigh}\\left(\\mu\\right) = \\dfrac{3}{8}\\left(1+\\cos^2\\theta\\right),$$\n",
    "\n",
    "and, after integrating from $-1$ to $\\mu$ and solving for $\\theta$,\n",
    "\n",
    "$$\\mu_\\mathrm{Rayleigh} = u-\\frac{1}{u},\\ u=\\left(-q+\\sqrt{1+q^2}\\right)^{1/3}\\ \\mathrm{and}\\ q=4r-2,$$\n",
    "\n",
    "where r is a random number between 0 and 1."
   ]
  },
  {
   "cell_type": "code",
   "execution_count": 118,
   "metadata": {},
   "outputs": [],
   "source": [
    "@numba.jit(nopython=True)\n",
    "def rayleigh(): \n",
    "    r = rd.random()\n",
    "    q = -8*r+4\n",
    "    d = 1+q*q/4\n",
    "    u = (-q/2+np.sqrt(d))**(1/3.)\n",
    "    return u-1/u"
   ]
  },
  {
   "cell_type": "markdown",
   "metadata": {},
   "source": [
    "#### Direction after scattering\n",
    "To compute the new photon direction after scattering, we first calculate the angle between the current direction of the photon and the positive x-axis and then either add or substract the scattering angle. "
   ]
  },
  {
   "cell_type": "code",
   "execution_count": 119,
   "metadata": {},
   "outputs": [],
   "source": [
    "# cur_direction = [direction_z (vertical), direction_x (horizontal)]\n",
    "@numba.jit(nopython=True)\n",
    "def new_direction(mu, current_direction):\n",
    "    angle = np.arctan2(current_direction[0], current_direction[1]) + np.arccos(mu) * (-1+2*(rd.random()>.5))      \n",
    "    return np.array([np.sin(angle),np.cos(angle)], dtype=np.float32)\n"
   ]
  },
  {
   "cell_type": "markdown",
   "metadata": {},
   "source": [
    "## Sampling optical depth\n",
    "\n",
    "The amount of scattering and absorption in the atmosphere \n",
    "The decrease in radiative flux along a path in a non-transparent atmosphere is determined by the Lambert-Beer law, so the radiative flux after a distance $s$ from the top of the atmosphere is\n",
    "\n",
    "$$I(s)=-I_0\\exp{\\tau}, \\tag{1}$$ \n",
    "\n",
    "where $I_0$ is the radiative flux at the top of atmosphere and $\\tau$ is the optical depth, which is the integral of the extinction coefficient ($k_\\mathrm{ext}$) over distance $s$: \n",
    "\n",
    "$$\\tau=\\int k_\\mathrm{ext} ds\\tag{2}.$$\n",
    "\n",
    "The extinction coefficient is the sum of the absorption coefficient $k_\\mathrm{abs}$ and the scattering coefficient $k_\\mathrm{sca}$. Note that the extinction coefficient is not a constant, but a function of wavelength, temperature, pressure, humidity, cloud thickness and more. \n",
    "\n",
    "As given by eq. 1, the fraction of photon surviving after a distance $\\tau$ is $e^{-\\tau}$, which also means that a random photon has a $e^{-\\tau}$ chance of travelling further than a distance $\\tau$ before hitting a molecule or cloud droplet. For each initialised photon, we sample a random $\\tau$ from a probability distribution, such that after many photons the fraction of photons that will travel further than $\\tau$ is $e^{-\\tau}$:\n",
    "\n",
    "$$\\tau = -\\ln{\\left(1-r\\right)},\\tag{3}$$ \n",
    "\n",
    "where $r$ is a random number between 0 and 1"
   ]
  },
  {
   "cell_type": "code",
   "execution_count": 120,
   "metadata": {},
   "outputs": [],
   "source": [
    "@numba.jit(nopython=True)\n",
    "def sample_tau():\n",
    "    return -log(1-rd.random())\n"
   ]
  },
  {
   "cell_type": "markdown",
   "metadata": {},
   "source": [
    "## Moving photons\n",
    "Having sampled a random $\\tau$ (eq. 3), we can compute the distance the photon will travel before hitting a molecule by inverting eq. 2. Because $k_\\mathrm{ext}$ ($=k_\\mathrm{abs} + k_\\mathrm{sca}$) is a complicated function of space, we would need to integrate over all grid cells traversed by the photon and thus keep track of all intersected grid cells, which is computationally quite expensive. Instead, we add a so-called null collision coefficient $k_\\mathrm{null}$ to each grid cell such that the sum $\\hat{k}=k_\\mathrm{abs} + k_\\mathrm{sca} + k_\\mathrm{null}$ is constant in space. Now we can substitute $k_\\mathrm{ext}$ for $\\hat{k}$ in eq. 2 and invert the equation: $s = \\frac{\\tau}{\\hat{k}}$.\n",
    "\n",
    "The photons will travel distance $s$, unless it hits a domain boundary first. With position vector $\\boldsymbol{p}=\\begin{bmatrix} p_z \\\\ p_x \\end{bmatrix}$ and direction vector $\\boldsymbol{d}=\\begin{bmatrix} d_z \\\\ d_x \\end{bmatrix}$, the new position of the photon is $\\boldsymbol{p^{i+1}} = \\boldsymbol{p^{i}} + \\boldsymbol{d^{i}} \\mathrm{min}\\left(s, s_\\mathrm{max}\\right),$ where $s_\\mathrm{max}$ is the distance to a domain boundary in the direction of the photon.\n",
    "\n",
    "If the photon does not hit a domain boundary, it interacts with a molecule or cloud droplet and we draw a random number $r$ to sample whether the photon is scattered ($r\\hat{k} \\leq k_\\mathrm{sca}$), absorbed ($ k_\\mathrm{sca} < r\\hat{k} < k_\\mathrm{ext}$) or whether the interaction is a null-collision ($r\\hat{k} \\geq k_\\mathrm{ext}$)."
   ]
  },
  {
   "cell_type": "code",
   "execution_count": 131,
   "metadata": {},
   "outputs": [],
   "source": [
    "@numba.jit(nopython=True)\n",
    "def move_photon(k_ext, k_sca, k_hat, size, position, direction):\n",
    "    s     = sample_tau()/k_hat # distance based on randomly sampled optical depth (tau)\n",
    "    s_max = np.min(((size*(direction>0)-position)/direction)) #distance to domain boundary\n",
    "    if (s+ds) >= s_max: # we hit domain boundary first\n",
    "        position += direction*s_max\n",
    "        \n",
    "        # Slighty shift away from cell boundary\n",
    "        position += np.sign(direction) * ds\n",
    "        \n",
    "        event=BD\n",
    "    else: \n",
    "        position += direction*s\n",
    "        r = rd.random()\n",
    "        if r*k_hat >= k_ext[int(position[0]),int(position[1])]:\n",
    "            event = ZC \n",
    "        elif r*k_hat <= k_sca[int(position[0]),int(position[1])]:\n",
    "            event = SC\n",
    "        else:\n",
    "            event = AB\n",
    "\n",
    "    return event, position, direction"
   ]
  },
  {
   "cell_type": "markdown",
   "metadata": {},
   "source": [
    "## Interactions\n",
    "The 'interaction_event' function handles the possible interactions of photons with cloud droplets and gas molecules or the crossing of domain boundaries. The function returns whether the photon is alive (i.e. not absorbed, so we continue tracing the photon) and whether photon still contributes to the direct (non-scattered) radiation. If necessary, the function also updates the direction vector.\n",
    "\n",
    "#### Scattering\n",
    "If the photon is scattered, it can be scattered by either a cloud droplet (if present where the photon is scattered) or a gas molecule. The chance of being scattered by a cloud droplet  is equal to $\\dfrac{k^\\mathrm{cloud}_\\mathrm{sca}}{k^\\mathrm{tot}_\\mathrm{sca}}$ , so we sample a random number $r$ between 0 and 1 and we assume cloud droplet scattering if $r<\\dfrac{k^\\mathrm{cloud}_\\mathrm{sca}}{k_\\mathrm{sca}}$ and gas molecule scattering otherwise. Having determined the type of scattering, we use either the Henyey-Greenstein or the Rayleigh function to compute a scattering angle and then compute a new direction. After scattering, we continue tracing the photon.\n",
    "\n",
    "#### Absorption\n",
    "Once the photon has been absorbed, we stop tracing it.\n",
    "\n",
    "#### Null-collision\n",
    "There is no actual interaction, so we do not have to update the direction and we just continue tracing the photon.\n",
    "\n",
    "#### Boundary hit\n",
    "If the photon crosses the horizontal domain boundaries we apply cyclic boundary conditions to ensure the photon stays in the domain and continue ray tracing. If the photos crosses the top boundary, it leaves the domain and we stop ray tracing. If the photon crosses the bottom boundary, it is either absorbed by the surface or reflected, as determined by the albedo. If a random number $r$ is smaller than the albedo, the photon is reflected, otherwise it is absorbed. "
   ]
  },
  {
   "cell_type": "code",
   "execution_count": 138,
   "metadata": {},
   "outputs": [],
   "source": [
    "@numba.jit(nopython=True)\n",
    "def interaction_event(event_type, cloud_scat_frac, g, size, position, direction, is_direct, albedo):\n",
    "    # Photon is scattered\n",
    "    if event_type == SC:\n",
    "        is_direct = False # photon is scattered, so it is no longer direct\n",
    "        if rd.random()<cloud_scat_frac[int(position[0]),int(position[1])]: #always false if no cloud is present\n",
    "            direction[:] = new_direction(henyey(g), direction) # cloud scattering\n",
    "        else:\n",
    "            direction[:] = new_direction(rayleigh(), direction) # gas scattering\n",
    "        return True, is_direct\n",
    "    \n",
    "    # Photon is absorbed\n",
    "    elif event_type == AB:\n",
    "        return False, is_direct\n",
    "    \n",
    "    # Null-collision\n",
    "    elif event_type == ZC:\n",
    "        return True, is_direct          \n",
    "    \n",
    "    # Photon hits boundary\n",
    "    elif event_type == BD:\n",
    "        # Photon crossed left: cyclic boundary conditions\n",
    "        if position[1] >= size[1]:\n",
    "            position[1] = ds\n",
    "            return True, is_direct\n",
    "        # Photon crossed left: cyclic boundary conditions\n",
    "        elif position[1] <= 0: \n",
    "            position[1] = size[1]-ds       \n",
    "            return True, is_direct\n",
    "        # Photon left top of domain\n",
    "        elif position[0] >= size[0]: \n",
    "            return False, is_direct\n",
    "        \n",
    "        # Photon interacts with surface\n",
    "        elif position[0] <= 0: \n",
    "            if rd.random() > albedo: # Absorption by surface\n",
    "                return False, is_direct \n",
    "            \n",
    "            else: # Surface scattering: lambertian surface\n",
    "                is_direct = False\n",
    "                position[0] = ds # Slighly shift photon away from bottom\n",
    "                mu_sfc  = np.sqrt(rd.random()) # Cosine of surface scattering angle\n",
    "                direction[:] = np.array([mu_sfc,np.sin(np.arccos(mu_sfc)) * rand_sign()], dtype=np.float32)\n",
    "                return True, is_direct \n",
    "            \n",
    "        else: \n",
    "          print(\"This it not supposed to happen!\")\n",
    "          return True, is_direct"
   ]
  },
  {
   "cell_type": "markdown",
   "metadata": {},
   "source": [
    "## Tracing a photon\n",
    "A photon is initialised at the top of the domain at a random location along the horizontal axis and its initial direction is based on the solar zenith angle. Then, the photon is traced until it is absorbed or it leaves the top of the domain. "
   ]
  },
  {
   "cell_type": "code",
   "execution_count": 133,
   "metadata": {},
   "outputs": [],
   "source": [
    "# Initialisation function\n",
    "@numba.jit(nopython=True)\n",
    "def initialise_photon(size, sza):\n",
    "    position  = np.array([size[0]-1e-5, rd.random()*size[1]], dtype=np.float32) \n",
    "    direction = np.array([-np.cos(sza), np.sin(sza)], dtype=np.float32)\n",
    "    return position, direction\n",
    "\n",
    "@numba.jit(nopython=True)\n",
    "def trace_photon(k_ext, k_sca, g, cloud_mask, cloud_scat_frac, k_hat, size, sza, albedo):\n",
    "    alive = True\n",
    "    is_direct = True\n",
    "    position, direction = initialise_photon(size, sza)\n",
    "    it = 0\n",
    "    while alive: #trace photon until it is absorbed or leaves the top of the domain\n",
    "        event_type, position, direction = move_photon(k_ext, k_sca, k_hat, size, position, direction)\n",
    "        alive, is_direct = interaction_event(event_type, cloud_scat_frac, g, size, \\\n",
    "                                     position, direction, is_direct, albedo)\n",
    "        it += 1\n",
    "        if it>5000: # quit to prevent extremely long loops. >5000x iterations happens like 1 in 1 million times\n",
    "            alive = False\n",
    "    # return whether the photon still counts as direct radiation and the final position of the photon\n",
    "    return is_direct, position    "
   ]
  },
  {
   "cell_type": "markdown",
   "metadata": {},
   "source": [
    "## Main \n",
    "We choose the number of photons to shoot, count how many photons are absorbed by the surface and where, and plot the result"
   ]
  },
  {
   "cell_type": "code",
   "execution_count": 134,
   "metadata": {},
   "outputs": [
    {
     "name": "stdout",
     "output_type": "stream",
     "text": [
      "Traced 100000 photons in   2.37 seconds\n"
     ]
    }
   ],
   "source": [
    "n_photon = 1e5\n",
    "cnt = []\n",
    "\n",
    "sfc_direct = np.zeros(size[1])\n",
    "sfc_diffuse = np.zeros(size[1])\n",
    "start = dt.datetime.now()\n",
    "for i in range(int(n_photon)):\n",
    "    is_direct, position = trace_photon(k_ext, k_sca, g, cloud_mask, cloud_scat_frac, k_hat, size, sza, albedo)\n",
    "    if position[0] <= 0:\n",
    "        if is_direct:\n",
    "            sfc_direct[int(position[1])] += 1\n",
    "        else:\n",
    "            sfc_diffuse[int(position[1])] += 1\n",
    "end = dt.datetime.now()\n",
    "print(\"Traced %i photons in %6.2f seconds\"%(n_photon,(end-start).seconds+(end-start).microseconds*1e-6))\n",
    "\n",
    "direct  = np.array(sfc_direct)/n_photon\n",
    "diffuse = np.array(sfc_diffuse)/n_photon\n"
   ]
  },
  {
   "cell_type": "code",
   "execution_count": 135,
   "metadata": {
    "scrolled": false
   },
   "outputs": [
    {
     "data": {
      "image/png": "[encoded data removed]",
      "text/plain": [
       "<Figure size 576x288 with 1 Axes>"
      ]
     },
     "metadata": {
      "needs_background": "light"
     },
     "output_type": "display_data"
    }
   ],
   "source": [
    "# Plotting results (1): Horizontal distribution of the fraction of photons absorbed at the surface,\n",
    "# for the diffuse (scattered) and direct (non-scattered) \"irradiance\" and their sum (global \"irradiance\") (diffuse)\n",
    "pl.figure(figsize=(8,4))\n",
    "pl.plot(direct + diffuse, c=\"k\",  label=\"Global\")\n",
    "pl.plot(direct, c=\"C0\", label=\"Direct\")\n",
    "pl.plot(diffuse, c=\"C3\", label=\"Diffuse\")\n",
    "pl.title(\"Fraction of photons absorbed by the surface\")\n",
    "pl.legend(loc=2)\n",
    "pl.show()\n",
    "\n"
   ]
  },
  {
   "cell_type": "code",
   "execution_count": 136,
   "metadata": {},
   "outputs": [
    {
     "data": {
      "image/png": "[encoded data removed]",
      "text/plain": [
       "<Figure size 1080x288 with 3 Axes>"
      ]
     },
     "metadata": {
      "needs_background": "light"
     },
     "output_type": "display_data"
    }
   ],
   "source": [
    "# Plotting results (2): 2D visualisation, which includes position and thickness of clouds\n",
    "# The fraction of absorbed photon at the surface is shown with the red colors on the bottom of each subplot\n",
    "# the black lines shows the direction of the solar zenith angle\n",
    "vmax_value = (direct + diffuse).max()\n",
    "cmap = copy.copy(mpl.cm.get_cmap(\"Greys_r\"))\n",
    "\n",
    "pl.figure(figsize=(15,4))\n",
    "pl.subplot(131)\n",
    "cb=pl.pcolormesh(k_ext_cld, cmap=cmap, vmin=1e-5)\n",
    "cb.cmap.set_under('lightblue')\n",
    "pl.pcolormesh(np.arange(x_size+1), np.arange(-5, 1, 1),\n",
    "              np.ones((5, x_size))*direct, cmap='Reds', vmin=0, vmax=vmax_value)\n",
    "pl.plot([20, 20 + np.tan(sza) * z_size], [z_size, 0], c='k',lw=1)\n",
    "pl.ylim(-5, z_size)\n",
    "pl.title('direct')\n",
    "\n",
    "pl.subplot(132)\n",
    "cb=pl.pcolormesh(k_ext_cld, cmap=cmap, vmin=1e-5)\n",
    "cb.cmap.set_under('lightblue')\n",
    "pl.pcolormesh(np.arange(x_size+1), np.arange(-5, 1, 1),\n",
    "              np.ones((5, x_size))*diffuse, cmap='Reds', vmin=0, vmax=vmax_value)\n",
    "pl.plot([20, 20 + np.tan(sza) * z_size], [z_size, 0], c='k',lw=1)\n",
    "pl.ylim(-5, z_size)\n",
    "pl.title('diffuse')\n",
    "\n",
    "pl.subplot(133)\n",
    "cb=pl.pcolormesh(k_ext_cld, cmap=cmap, vmin=1e-5)\n",
    "cb.cmap.set_under('lightblue')\n",
    "pl.pcolormesh(np.arange(x_size+1), np.arange(-5, 1, 1),\n",
    "              np.ones((5, x_size))*(direct+diffuse), cmap='Reds', vmin=0, vmax=vmax_value)\n",
    "pl.plot([20, 20 + np.tan(sza) * z_size], [z_size, 0], c='k',lw=1)\n",
    "pl.ylim(-5, z_size)\n",
    "pl.title('global')\n",
    "pl.show()"
   ]
  },
  {
   "cell_type": "code",
   "execution_count": null,
   "metadata": {},
   "outputs": [],
   "source": []
  }
 ],
 "metadata": {
  "kernelspec": {
   "display_name": "Python 3",
   "language": "python",
   "name": "python3"
  },
  "language_info": {
   "codemirror_mode": {
    "name": "ipython",
    "version": 3
   },
   "file_extension": ".py",
   "mimetype": "text/x-python",
   "name": "python",
   "nbconvert_exporter": "python",
   "pygments_lexer": "ipython3",
   "version": "3.7.9"
  }
 },
 "nbformat": 4,
 "nbformat_minor": 4
}
